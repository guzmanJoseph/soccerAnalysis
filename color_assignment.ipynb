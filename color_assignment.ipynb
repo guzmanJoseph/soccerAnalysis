{
 "cells": [
  {
   "cell_type": "code",
   "execution_count": 12,
   "id": "initial_id",
   "metadata": {
    "collapsed": true,
    "ExecuteTime": {
     "end_time": "2024-06-10T04:40:02.723084800Z",
     "start_time": "2024-06-10T04:40:02.715762200Z"
    }
   },
   "outputs": [],
   "source": [
    "import cv2\n",
    "import matplotlib.pyplot as plt\n",
    "import numpy as np\n",
    "from sklearn.cluster import KMeans"
   ]
  },
  {
   "cell_type": "code",
   "execution_count": 15,
   "outputs": [],
   "source": [
    "image_path = \"output_videos/cropped_img.jpg\"\n",
    "image = cv2.imread(image_path)\n",
    "image = cv2.cvtColor(image, cv2.COLOR_BGR2RGB)"
   ],
   "metadata": {
    "collapsed": false,
    "ExecuteTime": {
     "end_time": "2024-06-10T04:40:13.575551700Z",
     "start_time": "2024-06-10T04:40:13.564150500Z"
    }
   },
   "id": "34a6262afe6c4ab5"
  },
  {
   "cell_type": "code",
   "execution_count": 3,
   "outputs": [
    {
     "ename": "NameError",
     "evalue": "name 'image' is not defined",
     "output_type": "error",
     "traceback": [
      "\u001B[1;31m---------------------------------------------------------------------------\u001B[0m",
      "\u001B[1;31mNameError\u001B[0m                                 Traceback (most recent call last)",
      "Cell \u001B[1;32mIn[3], line 1\u001B[0m\n\u001B[1;32m----> 1\u001B[0m top_half_image \u001B[38;5;241m=\u001B[39m \u001B[43mimage\u001B[49m[\u001B[38;5;241m0\u001B[39m : \u001B[38;5;28mint\u001B[39m(image\u001B[38;5;241m.\u001B[39mshape[\u001B[38;5;241m0\u001B[39m]\u001B[38;5;241m/\u001B[39m\u001B[38;5;241m2\u001B[39m), :]\n\u001B[0;32m      2\u001B[0m plt\u001B[38;5;241m.\u001B[39mimshow(top_half_image)\n\u001B[0;32m      3\u001B[0m plt\u001B[38;5;241m.\u001B[39mshow()\n",
      "\u001B[1;31mNameError\u001B[0m: name 'image' is not defined"
     ]
    }
   ],
   "source": [
    "top_half_image = image[0 : int(image.shape[0]/2), :]\n",
    "plt.imshow(top_half_image)\n",
    "plt.show()"
   ],
   "metadata": {
    "collapsed": false,
    "ExecuteTime": {
     "end_time": "2024-06-10T15:15:06.399697800Z",
     "start_time": "2024-06-10T15:15:06.378910100Z"
    }
   },
   "id": "155db429e2499170"
  },
  {
   "cell_type": "markdown",
   "source": [
    "# Cluster the image into two clusters"
   ],
   "metadata": {
    "collapsed": false
   },
   "id": "4845f42c4fa953a9"
  },
  {
   "cell_type": "code",
   "execution_count": 1,
   "outputs": [
    {
     "ename": "NameError",
     "evalue": "name 'top_half_image' is not defined",
     "output_type": "error",
     "traceback": [
      "\u001B[1;31m---------------------------------------------------------------------------\u001B[0m",
      "\u001B[1;31mNameError\u001B[0m                                 Traceback (most recent call last)",
      "Cell \u001B[1;32mIn[1], line 1\u001B[0m\n\u001B[1;32m----> 1\u001B[0m image_2d \u001B[38;5;241m=\u001B[39m \u001B[43mtop_half_image\u001B[49m\u001B[38;5;241m.\u001B[39mreshape(\u001B[38;5;241m-\u001B[39m\u001B[38;5;241m1\u001B[39m,\u001B[38;5;241m3\u001B[39m)\n\u001B[0;32m      3\u001B[0m kmeans \u001B[38;5;241m=\u001B[39m KMeans(n_clusters\u001B[38;5;241m=\u001B[39m\u001B[38;5;241m2\u001B[39m, random_state\u001B[38;5;241m=\u001B[39m\u001B[38;5;241m0\u001B[39m)\n\u001B[0;32m      4\u001B[0m kmeans\u001B[38;5;241m.\u001B[39mfit(image_2d)\n",
      "\u001B[1;31mNameError\u001B[0m: name 'top_half_image' is not defined"
     ]
    }
   ],
   "source": [
    "image_2d = top_half_image.reshape(-1,3)\n",
    "\n",
    "kmeans = KMeans(n_clusters=2, random_state=0)\n",
    "kmeans.fit(image_2d)\n",
    "\n",
    "labels = kmeans.labels_\n",
    "\n",
    "clustered_image = labels.reshape(image.shape[0], image.shape[1])\n",
    "\n",
    "plt.imshow(clustered_image)\n",
    "plt.show()"
   ],
   "metadata": {
    "collapsed": false,
    "ExecuteTime": {
     "end_time": "2024-06-10T15:14:39.639361600Z",
     "start_time": "2024-06-10T15:14:39.371819700Z"
    }
   },
   "id": "4016b256ad813582"
  },
  {
   "cell_type": "code",
   "execution_count": 19,
   "outputs": [
    {
     "ename": "NameError",
     "evalue": "name 'clustered_image' is not defined",
     "output_type": "error",
     "traceback": [
      "\u001B[1;31m---------------------------------------------------------------------------\u001B[0m",
      "\u001B[1;31mNameError\u001B[0m                                 Traceback (most recent call last)",
      "Cell \u001B[1;32mIn[19], line 1\u001B[0m\n\u001B[1;32m----> 1\u001B[0m corner_clusters \u001B[38;5;241m=\u001B[39m [\u001B[43mclustered_image\u001B[49m[\u001B[38;5;241m0\u001B[39m,\u001B[38;5;241m0\u001B[39m], clustered_image[\u001B[38;5;241m0\u001B[39m,\u001B[38;5;241m-\u001B[39m\u001B[38;5;241m1\u001B[39m], clustered_image[\u001B[38;5;241m-\u001B[39m\u001B[38;5;241m1\u001B[39m,\u001B[38;5;241m0\u001B[39m], clustered_image[\u001B[38;5;241m-\u001B[39m\u001B[38;5;241m1\u001B[39m,\u001B[38;5;241m-\u001B[39m\u001B[38;5;241m1\u001B[39m]]\n\u001B[0;32m      2\u001B[0m non_player_cluster \u001B[38;5;241m=\u001B[39m \u001B[38;5;28mmax\u001B[39m(\u001B[38;5;28mset\u001B[39m(corner_clusters), key\u001B[38;5;241m=\u001B[39mcorner_clusters\u001B[38;5;241m.\u001B[39mcount())\n\u001B[0;32m      3\u001B[0m \u001B[38;5;28mprint\u001B[39m(non_player_cluster)\n",
      "\u001B[1;31mNameError\u001B[0m: name 'clustered_image' is not defined"
     ]
    }
   ],
   "source": [
    "corner_clusters = [clustered_image[0,0], clustered_image[0,-1], clustered_image[-1,0], clustered_image[-1,-1]]\n",
    "non_player_cluster = max(set(corner_clusters), key=corner_clusters.count())\n",
    "print(non_player_cluster)"
   ],
   "metadata": {
    "collapsed": false,
    "ExecuteTime": {
     "end_time": "2024-06-10T04:40:27.145407600Z",
     "start_time": "2024-06-10T04:40:27.124504Z"
    }
   },
   "id": "35e8c4433ff044be"
  },
  {
   "cell_type": "code",
   "execution_count": 8,
   "outputs": [
    {
     "ename": "NameError",
     "evalue": "name 'non_player_cluster' is not defined",
     "output_type": "error",
     "traceback": [
      "\u001B[1;31m---------------------------------------------------------------------------\u001B[0m",
      "\u001B[1;31mNameError\u001B[0m                                 Traceback (most recent call last)",
      "Cell \u001B[1;32mIn[8], line 1\u001B[0m\n\u001B[1;32m----> 1\u001B[0m player_cluster \u001B[38;5;241m=\u001B[39m \u001B[38;5;241m1\u001B[39m \u001B[38;5;241m-\u001B[39m \u001B[43mnon_player_cluster\u001B[49m\n\u001B[0;32m      2\u001B[0m \u001B[38;5;28mprint\u001B[39m(player_cluster)\n",
      "\u001B[1;31mNameError\u001B[0m: name 'non_player_cluster' is not defined"
     ]
    }
   ],
   "source": [
    "player_cluster = 1 - non_player_cluster\n",
    "print(player_cluster)"
   ],
   "metadata": {
    "collapsed": false,
    "ExecuteTime": {
     "end_time": "2024-06-10T03:52:17.769046900Z",
     "start_time": "2024-06-10T03:52:17.749529600Z"
    }
   },
   "id": "80fae93906d0a8be"
  },
  {
   "cell_type": "code",
   "execution_count": 20,
   "outputs": [
    {
     "ename": "NameError",
     "evalue": "name 'player_cluster' is not defined",
     "output_type": "error",
     "traceback": [
      "\u001B[1;31m---------------------------------------------------------------------------\u001B[0m",
      "\u001B[1;31mNameError\u001B[0m                                 Traceback (most recent call last)",
      "Cell \u001B[1;32mIn[20], line 1\u001B[0m\n\u001B[1;32m----> 1\u001B[0m kmeans\u001B[38;5;241m.\u001B[39mcluster_centers_[\u001B[43mplayer_cluster\u001B[49m]\n",
      "\u001B[1;31mNameError\u001B[0m: name 'player_cluster' is not defined"
     ]
    }
   ],
   "source": [
    "kmeans.cluster_centers_[player_cluster]"
   ],
   "metadata": {
    "collapsed": false,
    "ExecuteTime": {
     "end_time": "2024-06-10T04:40:34.596518600Z",
     "start_time": "2024-06-10T04:40:34.577604Z"
    }
   },
   "id": "b6b001a0e08a65d0"
  },
  {
   "cell_type": "code",
   "execution_count": null,
   "outputs": [],
   "source": [],
   "metadata": {
    "collapsed": false
   },
   "id": "ab67d58d7802fb06"
  }
 ],
 "metadata": {
  "kernelspec": {
   "display_name": "Python 3",
   "language": "python",
   "name": "python3"
  },
  "language_info": {
   "codemirror_mode": {
    "name": "ipython",
    "version": 2
   },
   "file_extension": ".py",
   "mimetype": "text/x-python",
   "name": "python",
   "nbconvert_exporter": "python",
   "pygments_lexer": "ipython2",
   "version": "2.7.6"
  }
 },
 "nbformat": 4,
 "nbformat_minor": 5
}
